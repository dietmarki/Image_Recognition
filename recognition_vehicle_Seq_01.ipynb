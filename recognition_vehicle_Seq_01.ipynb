{
 "cells": [
  {
   "cell_type": "code",
   "execution_count": 1,
   "id": "98f4f056",
   "metadata": {},
   "outputs": [],
   "source": [
    "\n",
    "#  --> sequential --> long duration\n"
   ]
  },
  {
   "cell_type": "code",
   "execution_count": 2,
   "id": "e2276748",
   "metadata": {},
   "outputs": [],
   "source": [
    "\n",
    "# import libraries\n",
    "import numpy as np\n",
    "import pandas as pd\n",
    "from pathlib import Path\n",
    "import matplotlib.pyplot as plt\n",
    "import seaborn as sns\n",
    "# execute if warnings should be ignored\n",
    "import warnings\n",
    "warnings.filterwarnings('ignore')\n"
   ]
  },
  {
   "cell_type": "code",
   "execution_count": 3,
   "id": "0a969253",
   "metadata": {},
   "outputs": [],
   "source": [
    "\n",
    "# Input data files from windows:\n",
    "# \"C:\\Users\\dietm\\Desktop\\Image_Recognition\\data_vehicle_recognition\" directory\n",
    "import os\n"
   ]
  },
  {
   "cell_type": "code",
   "execution_count": 4,
   "id": "e9cabd85",
   "metadata": {},
   "outputs": [
    {
     "name": "stdout",
     "output_type": "stream",
     "text": [
      "525\n"
     ]
    }
   ],
   "source": [
    "\n",
    "# preparing the filenames:\n",
    "list_files = []\n",
    "\n",
    "for dirname,_,filenames in os.walk('./data_vehicle_recognition/'):\n",
    "    for filename in filenames:\n",
    "        list_files.append(os.path.join(dirname,filename))\n",
    "        \n",
    "print(len(list_files))\n"
   ]
  },
  {
   "cell_type": "code",
   "execution_count": 5,
   "id": "920736f0",
   "metadata": {},
   "outputs": [],
   "source": [
    "\n",
    "# preparing the path:\n",
    "#C:\\Users\\dietm\\Documents\\Data Science_Didi\\Projekt\\Projekt Recognition\\data_vehicle_recognition\\vehicles\n",
    "root_dir = './data_vehicle_recognition/vehicles/'\n"
   ]
  },
  {
   "cell_type": "code",
   "execution_count": 6,
   "id": "54b6ee5f",
   "metadata": {},
   "outputs": [],
   "source": [
    "\n",
    "# for reading images:\n",
    "import cv2\n"
   ]
  },
  {
   "cell_type": "code",
   "execution_count": 7,
   "id": "b534615d",
   "metadata": {},
   "outputs": [],
   "source": [
    "\n",
    "# preparing datas and labels in lists:\n",
    "data = []\n",
    "labels = []\n",
    "label_names = []\n",
    "\n",
    "for label in os.listdir(root_dir):\n",
    "    path = \"./data_vehicle_recognition/vehicles/{0}/\".format(label)\n",
    "    folder_data = os.listdir(path)\n",
    "    for image_path in folder_data:\n",
    "        img = cv2.imread(path + image_path)\n",
    "        img = cv2.resize(img, (32, 32))\n",
    "        data.append(img)\n",
    "        labels.append(label)\n",
    "        if not label in label_names:\n",
    "            label_names.append(label)\n"
   ]
  },
  {
   "cell_type": "code",
   "execution_count": 8,
   "id": "786c6c5a",
   "metadata": {},
   "outputs": [
    {
     "data": {
      "text/plain": [
       "['bike',\n",
       " 'boat',\n",
       " 'bus',\n",
       " 'car',\n",
       " 'cycle',\n",
       " 'helicopter',\n",
       " 'plane',\n",
       " 'scooty',\n",
       " 'truck']"
      ]
     },
     "execution_count": 8,
     "metadata": {},
     "output_type": "execute_result"
    }
   ],
   "source": [
    "\n",
    "# labels unique:\n",
    "label_names\n"
   ]
  },
  {
   "cell_type": "code",
   "execution_count": 9,
   "id": "22de0602",
   "metadata": {},
   "outputs": [],
   "source": [
    "\n",
    "# preparing right shape for datas/labels:\n",
    "data = np.array(data)\n"
   ]
  },
  {
   "cell_type": "code",
   "execution_count": 10,
   "id": "5a5d96f6",
   "metadata": {},
   "outputs": [
    {
     "data": {
      "text/plain": [
       "(525, 32, 32, 3)"
      ]
     },
     "execution_count": 10,
     "metadata": {},
     "output_type": "execute_result"
    }
   ],
   "source": [
    "data.shape"
   ]
  },
  {
   "cell_type": "code",
   "execution_count": 11,
   "id": "12c38446",
   "metadata": {},
   "outputs": [],
   "source": [
    "labels = np.array(labels)"
   ]
  },
  {
   "cell_type": "code",
   "execution_count": 12,
   "id": "733f4c90",
   "metadata": {},
   "outputs": [
    {
     "data": {
      "text/plain": [
       "(525,)"
      ]
     },
     "execution_count": 12,
     "metadata": {},
     "output_type": "execute_result"
    }
   ],
   "source": [
    "labels.shape"
   ]
  },
  {
   "cell_type": "code",
   "execution_count": 13,
   "id": "900bda05",
   "metadata": {},
   "outputs": [],
   "source": [
    "\n",
    "# import for preparing labels:\n",
    "from sklearn.preprocessing import LabelEncoder\n"
   ]
  },
  {
   "cell_type": "code",
   "execution_count": 14,
   "id": "9d78ec97",
   "metadata": {},
   "outputs": [],
   "source": [
    "\n",
    "# initialize and preparing:\n",
    "le = LabelEncoder()\n",
    "labels = le.fit_transform(labels)\n"
   ]
  },
  {
   "cell_type": "code",
   "execution_count": 15,
   "id": "6f47bddb",
   "metadata": {},
   "outputs": [],
   "source": [
    "\n",
    "# import for converting to categorical:\n",
    "from tensorflow.keras.utils import to_categorical\n"
   ]
  },
  {
   "cell_type": "code",
   "execution_count": 16,
   "id": "ea64ad8e",
   "metadata": {},
   "outputs": [],
   "source": [
    "\n",
    "labels = to_categorical(labels)\n"
   ]
  },
  {
   "cell_type": "code",
   "execution_count": 17,
   "id": "907471d5",
   "metadata": {},
   "outputs": [
    {
     "data": {
      "text/plain": [
       "((525, 9), (525, 32, 32, 3))"
      ]
     },
     "execution_count": 17,
     "metadata": {},
     "output_type": "execute_result"
    }
   ],
   "source": [
    "\n",
    "# right shape:\n",
    "labels.shape,data.shape\n"
   ]
  },
  {
   "cell_type": "code",
   "execution_count": 18,
   "id": "3da0ceb9",
   "metadata": {},
   "outputs": [],
   "source": [
    "\n",
    "# before train/test/split --> a shuffle for both data sets with indices:\n",
    "new = np.arange(525)\n"
   ]
  },
  {
   "cell_type": "code",
   "execution_count": 19,
   "id": "5613933c",
   "metadata": {},
   "outputs": [
    {
     "data": {
      "text/plain": [
       "array([  0,   1,   2,   3,   4,   5,   6,   7,   8,   9,  10,  11,  12,\n",
       "        13,  14,  15,  16,  17,  18,  19,  20,  21,  22,  23,  24,  25,\n",
       "        26,  27,  28,  29,  30,  31,  32,  33,  34,  35,  36,  37,  38,\n",
       "        39,  40,  41,  42,  43,  44,  45,  46,  47,  48,  49,  50,  51,\n",
       "        52,  53,  54,  55,  56,  57,  58,  59,  60,  61,  62,  63,  64,\n",
       "        65,  66,  67,  68,  69,  70,  71,  72,  73,  74,  75,  76,  77,\n",
       "        78,  79,  80,  81,  82,  83,  84,  85,  86,  87,  88,  89,  90,\n",
       "        91,  92,  93,  94,  95,  96,  97,  98,  99, 100, 101, 102, 103,\n",
       "       104, 105, 106, 107, 108, 109, 110, 111, 112, 113, 114, 115, 116,\n",
       "       117, 118, 119, 120, 121, 122, 123, 124, 125, 126, 127, 128, 129,\n",
       "       130, 131, 132, 133, 134, 135, 136, 137, 138, 139, 140, 141, 142,\n",
       "       143, 144, 145, 146, 147, 148, 149, 150, 151, 152, 153, 154, 155,\n",
       "       156, 157, 158, 159, 160, 161, 162, 163, 164, 165, 166, 167, 168,\n",
       "       169, 170, 171, 172, 173, 174, 175, 176, 177, 178, 179, 180, 181,\n",
       "       182, 183, 184, 185, 186, 187, 188, 189, 190, 191, 192, 193, 194,\n",
       "       195, 196, 197, 198, 199, 200, 201, 202, 203, 204, 205, 206, 207,\n",
       "       208, 209, 210, 211, 212, 213, 214, 215, 216, 217, 218, 219, 220,\n",
       "       221, 222, 223, 224, 225, 226, 227, 228, 229, 230, 231, 232, 233,\n",
       "       234, 235, 236, 237, 238, 239, 240, 241, 242, 243, 244, 245, 246,\n",
       "       247, 248, 249, 250, 251, 252, 253, 254, 255, 256, 257, 258, 259,\n",
       "       260, 261, 262, 263, 264, 265, 266, 267, 268, 269, 270, 271, 272,\n",
       "       273, 274, 275, 276, 277, 278, 279, 280, 281, 282, 283, 284, 285,\n",
       "       286, 287, 288, 289, 290, 291, 292, 293, 294, 295, 296, 297, 298,\n",
       "       299, 300, 301, 302, 303, 304, 305, 306, 307, 308, 309, 310, 311,\n",
       "       312, 313, 314, 315, 316, 317, 318, 319, 320, 321, 322, 323, 324,\n",
       "       325, 326, 327, 328, 329, 330, 331, 332, 333, 334, 335, 336, 337,\n",
       "       338, 339, 340, 341, 342, 343, 344, 345, 346, 347, 348, 349, 350,\n",
       "       351, 352, 353, 354, 355, 356, 357, 358, 359, 360, 361, 362, 363,\n",
       "       364, 365, 366, 367, 368, 369, 370, 371, 372, 373, 374, 375, 376,\n",
       "       377, 378, 379, 380, 381, 382, 383, 384, 385, 386, 387, 388, 389,\n",
       "       390, 391, 392, 393, 394, 395, 396, 397, 398, 399, 400, 401, 402,\n",
       "       403, 404, 405, 406, 407, 408, 409, 410, 411, 412, 413, 414, 415,\n",
       "       416, 417, 418, 419, 420, 421, 422, 423, 424, 425, 426, 427, 428,\n",
       "       429, 430, 431, 432, 433, 434, 435, 436, 437, 438, 439, 440, 441,\n",
       "       442, 443, 444, 445, 446, 447, 448, 449, 450, 451, 452, 453, 454,\n",
       "       455, 456, 457, 458, 459, 460, 461, 462, 463, 464, 465, 466, 467,\n",
       "       468, 469, 470, 471, 472, 473, 474, 475, 476, 477, 478, 479, 480,\n",
       "       481, 482, 483, 484, 485, 486, 487, 488, 489, 490, 491, 492, 493,\n",
       "       494, 495, 496, 497, 498, 499, 500, 501, 502, 503, 504, 505, 506,\n",
       "       507, 508, 509, 510, 511, 512, 513, 514, 515, 516, 517, 518, 519,\n",
       "       520, 521, 522, 523, 524])"
      ]
     },
     "execution_count": 19,
     "metadata": {},
     "output_type": "execute_result"
    }
   ],
   "source": [
    "new"
   ]
  },
  {
   "cell_type": "code",
   "execution_count": 20,
   "id": "bc9e3f80",
   "metadata": {},
   "outputs": [],
   "source": [
    "\n",
    "np.random.shuffle(new)\n"
   ]
  },
  {
   "cell_type": "code",
   "execution_count": 21,
   "id": "be3736ff",
   "metadata": {},
   "outputs": [
    {
     "data": {
      "text/plain": [
       "array([123, 164, 215, 157,  82, 264,  87, 300, 120,  89, 447, 296, 422,\n",
       "       252, 426, 334, 257, 266, 313, 213, 331, 330, 427,  78, 173,   1,\n",
       "        42,   2, 258, 226,  25, 367, 166, 372, 443, 107, 130, 200,  22,\n",
       "       286, 376,  63, 497, 134,  83, 124,  15, 104, 302, 156, 446, 184,\n",
       "       292, 463, 458, 225, 490, 328, 322, 423, 404,  37,  95,  70, 321,\n",
       "       207, 431, 118, 135, 388, 251, 194, 518, 488,  30, 110, 217, 233,\n",
       "       277, 365, 281, 163, 348, 417, 373, 444, 409, 344,  24,  58, 479,\n",
       "        51, 212,  11, 172, 188,  23, 127, 515, 377, 346, 275, 381, 393,\n",
       "        60, 221, 476, 379, 441, 353,  45, 185, 250, 139, 456, 293, 193,\n",
       "       283, 356, 418, 232, 289, 399,   8, 108, 132, 191, 357, 391, 280,\n",
       "       438, 278, 242, 482, 400, 237, 190, 263, 111, 248, 170, 333, 385,\n",
       "       270, 265, 450, 219, 276, 287, 187, 502,  44, 406, 428, 380, 146,\n",
       "       216, 253, 268,  94, 254, 432, 345, 143, 489, 136, 211, 451, 352,\n",
       "       435, 154, 471, 117, 513, 256, 208, 290, 359, 475, 106, 430, 116,\n",
       "        49, 366, 181,  54, 145,  10, 474, 439, 445, 319, 168, 151,  66,\n",
       "         9, 459, 195, 220, 351, 113,  88,  98, 224, 196, 199, 150, 429,\n",
       "       102, 169, 203,   7, 228, 480, 421, 206, 177,  35, 468, 231, 491,\n",
       "       259,  12, 454, 297,  55, 472, 521,  18, 410,  38, 316, 499, 332,\n",
       "       235, 425, 205, 148, 337, 152, 338, 288, 125,  62,  47, 392, 452,\n",
       "       389, 295, 119, 395, 412, 128,  29, 343,  61, 227, 315, 255, 506,\n",
       "       355, 126, 440, 434, 103,  34, 234, 308, 305,  33, 159, 487, 243,\n",
       "       210, 241,  48,  99, 141, 306, 401, 240, 465, 176, 291,  32, 394,\n",
       "       279, 415,  14, 510,  69,  64, 192, 507, 167, 402,  65, 325, 519,\n",
       "         4, 269, 137,  20, 335, 448,  76,  75, 350,  91, 324, 100, 189,\n",
       "       477, 414, 512, 261, 160, 222, 174, 101, 369, 478, 453, 371, 105,\n",
       "       403,  36, 493, 153, 284, 524, 339, 301, 407, 317,  73, 449, 413,\n",
       "       180,  39, 260, 484, 309,   5, 329, 466,  59, 361, 387,  81, 112,\n",
       "       272, 138,   3, 218, 522, 500, 503,  27, 149, 362, 223, 492, 304,\n",
       "       246, 129,  26, 460, 397, 485, 299, 509, 244,  84, 239, 236,  74,\n",
       "       504, 511,  19, 405, 514,  96, 273, 498, 121, 320,  13, 340, 433,\n",
       "       469,  41, 318, 358, 437, 386, 186, 109, 370, 271, 375,  71, 171,\n",
       "       155, 282, 383, 262, 326,  79, 398, 165, 274, 197,  85, 336, 162,\n",
       "       470, 455, 508, 182,  21, 115,  72, 342, 298, 464, 363, 486,  43,\n",
       "       462, 158,   0, 436, 229, 307, 131, 198, 520, 374, 349, 390, 457,\n",
       "       294,  86, 247, 161, 382, 523, 238,  46,  16, 310, 496, 354,  97,\n",
       "       416, 175, 144,  67,  92, 327,  77, 245, 396, 384, 285,  53, 209,\n",
       "       419, 347,  40, 483,  56, 122, 505, 481, 140, 314, 360, 420,  90,\n",
       "       341, 179,  57, 142, 202, 461, 312, 424, 408, 364, 501, 311,  52,\n",
       "        28,  80, 303, 467, 495, 473, 183, 494,  17, 230,  93,  68, 517,\n",
       "       378, 201, 267, 114, 214, 204,  31, 178, 249, 411,  50, 368, 323,\n",
       "       442, 516, 147,   6, 133])"
      ]
     },
     "execution_count": 21,
     "metadata": {},
     "output_type": "execute_result"
    }
   ],
   "source": [
    "new"
   ]
  },
  {
   "cell_type": "code",
   "execution_count": 22,
   "id": "6e3e29e3",
   "metadata": {},
   "outputs": [],
   "source": [
    "\n",
    "# --> shuffle with indices:\n",
    "data = data[new]\n",
    "labels = labels[new]\n"
   ]
  },
  {
   "cell_type": "code",
   "execution_count": 23,
   "id": "f5af86be",
   "metadata": {},
   "outputs": [],
   "source": [
    "\n",
    "# import for --> train/test/split\n",
    "from sklearn.model_selection import train_test_split\n"
   ]
  },
  {
   "cell_type": "code",
   "execution_count": 24,
   "id": "88aa91c4",
   "metadata": {},
   "outputs": [],
   "source": [
    "\n",
    "X_train, X_test, y_train, y_test = train_test_split(data, labels, test_size=0.2, random_state=33)\n"
   ]
  },
  {
   "cell_type": "code",
   "execution_count": 25,
   "id": "9d4c42c6",
   "metadata": {},
   "outputs": [],
   "source": [
    "\n",
    "# import librarys from tensorflow for layers and models:\n",
    "from tensorflow.keras.layers import Dense,Conv2D,Flatten,MaxPool2D,Dropout,LeakyReLU\n",
    "from tensorflow.keras.models import Sequential\n"
   ]
  },
  {
   "cell_type": "code",
   "execution_count": 26,
   "id": "2fcb43a0",
   "metadata": {},
   "outputs": [],
   "source": [
    "\n",
    "# create model:\n",
    "model = Sequential([\n",
    "    Conv2D(32,(3,3),padding=\"same\",activation=\"relu\",input_shape=(32,32,3)),\n",
    "    Conv2D(32,(3,3),activation=\"relu\"),\n",
    "    \n",
    "    Conv2D(64,(3,3),padding=\"same\",activation=LeakyReLU(0.001)),\n",
    "    Conv2D(64,(3,3),activation=LeakyReLU(0.001)),\n",
    "    MaxPool2D(),\n",
    "    \n",
    "    Dropout(0.25),\n",
    "    Flatten(),\n",
    "    Dense(128,activation=\"relu\"),\n",
    "    Dropout(0.5),\n",
    "    Dense(9,activation=\"softmax\")\n",
    "])\n"
   ]
  },
  {
   "cell_type": "code",
   "execution_count": 27,
   "id": "233b7bd2",
   "metadata": {},
   "outputs": [],
   "source": [
    "\n",
    "# compile:\n",
    "model.compile(loss=\"categorical_crossentropy\", optimizer=\"adam\", metrics=[\"accuracy\"])\n"
   ]
  },
  {
   "cell_type": "code",
   "execution_count": 28,
   "id": "6dbd253c",
   "metadata": {},
   "outputs": [
    {
     "name": "stdout",
     "output_type": "stream",
     "text": [
      "Epoch 1/8\n",
      "\u001b[1m10/10\u001b[0m \u001b[32m━━━━━━━━━━━━━━━━━━━━\u001b[0m\u001b[37m\u001b[0m \u001b[1m3s\u001b[0m 157ms/step - accuracy: 0.1266 - loss: 57.6988 - val_accuracy: 0.1333 - val_loss: 2.6192\n",
      "Epoch 2/8\n",
      "\u001b[1m10/10\u001b[0m \u001b[32m━━━━━━━━━━━━━━━━━━━━\u001b[0m\u001b[37m\u001b[0m \u001b[1m1s\u001b[0m 132ms/step - accuracy: 0.1297 - loss: 2.6400 - val_accuracy: 0.1238 - val_loss: 2.1691\n",
      "Epoch 3/8\n",
      "\u001b[1m10/10\u001b[0m \u001b[32m━━━━━━━━━━━━━━━━━━━━\u001b[0m\u001b[37m\u001b[0m \u001b[1m1s\u001b[0m 131ms/step - accuracy: 0.1327 - loss: 2.1504 - val_accuracy: 0.2381 - val_loss: 2.1530\n",
      "Epoch 4/8\n",
      "\u001b[1m10/10\u001b[0m \u001b[32m━━━━━━━━━━━━━━━━━━━━\u001b[0m\u001b[37m\u001b[0m \u001b[1m1s\u001b[0m 132ms/step - accuracy: 0.1543 - loss: 2.1167 - val_accuracy: 0.1429 - val_loss: 2.1540\n",
      "Epoch 5/8\n",
      "\u001b[1m10/10\u001b[0m \u001b[32m━━━━━━━━━━━━━━━━━━━━\u001b[0m\u001b[37m\u001b[0m \u001b[1m1s\u001b[0m 132ms/step - accuracy: 0.2242 - loss: 2.0339 - val_accuracy: 0.2190 - val_loss: 2.0965\n",
      "Epoch 6/8\n",
      "\u001b[1m10/10\u001b[0m \u001b[32m━━━━━━━━━━━━━━━━━━━━\u001b[0m\u001b[37m\u001b[0m \u001b[1m1s\u001b[0m 133ms/step - accuracy: 0.2416 - loss: 1.9633 - val_accuracy: 0.1905 - val_loss: 2.0756\n",
      "Epoch 7/8\n",
      "\u001b[1m10/10\u001b[0m \u001b[32m━━━━━━━━━━━━━━━━━━━━\u001b[0m\u001b[37m\u001b[0m \u001b[1m1s\u001b[0m 144ms/step - accuracy: 0.2547 - loss: 1.8828 - val_accuracy: 0.3143 - val_loss: 1.9523\n",
      "Epoch 8/8\n",
      "\u001b[1m10/10\u001b[0m \u001b[32m━━━━━━━━━━━━━━━━━━━━\u001b[0m\u001b[37m\u001b[0m \u001b[1m2s\u001b[0m 150ms/step - accuracy: 0.3393 - loss: 1.7670 - val_accuracy: 0.2857 - val_loss: 1.8996\n"
     ]
    }
   ],
   "source": [
    "\n",
    "# train:\n",
    "history = model.fit(X_train,y_train,batch_size=32,epochs=8,validation_split=0.25)\n"
   ]
  },
  {
   "cell_type": "code",
   "execution_count": 29,
   "id": "f9e8d738",
   "metadata": {},
   "outputs": [],
   "source": [
    "\n",
    "# values of accuracy and loss:\n",
    "history_df = pd.DataFrame(history.history)\n"
   ]
  },
  {
   "cell_type": "code",
   "execution_count": 30,
   "id": "dee5fe4d",
   "metadata": {},
   "outputs": [
    {
     "data": {
      "text/html": [
       "<div>\n",
       "<style scoped>\n",
       "    .dataframe tbody tr th:only-of-type {\n",
       "        vertical-align: middle;\n",
       "    }\n",
       "\n",
       "    .dataframe tbody tr th {\n",
       "        vertical-align: top;\n",
       "    }\n",
       "\n",
       "    .dataframe thead th {\n",
       "        text-align: right;\n",
       "    }\n",
       "</style>\n",
       "<table border=\"1\" class=\"dataframe\">\n",
       "  <thead>\n",
       "    <tr style=\"text-align: right;\">\n",
       "      <th></th>\n",
       "      <th>accuracy</th>\n",
       "      <th>loss</th>\n",
       "      <th>val_accuracy</th>\n",
       "      <th>val_loss</th>\n",
       "    </tr>\n",
       "  </thead>\n",
       "  <tbody>\n",
       "    <tr>\n",
       "      <th>3</th>\n",
       "      <td>0.165079</td>\n",
       "      <td>2.110657</td>\n",
       "      <td>0.142857</td>\n",
       "      <td>2.153957</td>\n",
       "    </tr>\n",
       "    <tr>\n",
       "      <th>4</th>\n",
       "      <td>0.219048</td>\n",
       "      <td>2.025803</td>\n",
       "      <td>0.219048</td>\n",
       "      <td>2.096495</td>\n",
       "    </tr>\n",
       "    <tr>\n",
       "      <th>5</th>\n",
       "      <td>0.231746</td>\n",
       "      <td>1.988327</td>\n",
       "      <td>0.190476</td>\n",
       "      <td>2.075573</td>\n",
       "    </tr>\n",
       "    <tr>\n",
       "      <th>6</th>\n",
       "      <td>0.279365</td>\n",
       "      <td>1.862987</td>\n",
       "      <td>0.314286</td>\n",
       "      <td>1.952262</td>\n",
       "    </tr>\n",
       "    <tr>\n",
       "      <th>7</th>\n",
       "      <td>0.317460</td>\n",
       "      <td>1.755574</td>\n",
       "      <td>0.285714</td>\n",
       "      <td>1.899643</td>\n",
       "    </tr>\n",
       "  </tbody>\n",
       "</table>\n",
       "</div>"
      ],
      "text/plain": [
       "   accuracy      loss  val_accuracy  val_loss\n",
       "3  0.165079  2.110657      0.142857  2.153957\n",
       "4  0.219048  2.025803      0.219048  2.096495\n",
       "5  0.231746  1.988327      0.190476  2.075573\n",
       "6  0.279365  1.862987      0.314286  1.952262\n",
       "7  0.317460  1.755574      0.285714  1.899643"
      ]
     },
     "execution_count": 30,
     "metadata": {},
     "output_type": "execute_result"
    }
   ],
   "source": [
    "\n",
    "history_df.tail(5)\n"
   ]
  },
  {
   "cell_type": "code",
   "execution_count": 31,
   "id": "9f6a8f5b",
   "metadata": {},
   "outputs": [
    {
     "data": {
      "image/png": "[encoded data removed]",
      "text/plain": [
       "<Figure size 640x480 with 1 Axes>"
      ]
     },
     "metadata": {},
     "output_type": "display_data"
    }
   ],
   "source": [
    "# visualization of accuracy and val_accuracy:\n",
    "history_df[['accuracy','val_accuracy']].plot()\n",
    "plt.title(\"Accuracy\")\n",
    "plt.xlabel(\"Epoch\")\n",
    "plt.ylabel(\"Accuracy\")\n",
    "plt.legend([\"train\", \"valid\"])\n",
    "plt.show()"
   ]
  },
  {
   "cell_type": "code",
   "execution_count": 32,
   "id": "c9661ed9",
   "metadata": {},
   "outputs": [
    {
     "data": {
      "image/png": "[encoded data removed]",
      "text/plain": [
       "<Figure size 640x480 with 1 Axes>"
      ]
     },
     "metadata": {},
     "output_type": "display_data"
    }
   ],
   "source": [
    "\n",
    "# visualization of accuracy and val_accuracy:\n",
    "history_df[['loss','val_loss']].plot()\n",
    "plt.title(\"Loss\")\n",
    "plt.xlabel(\"Epoch\")\n",
    "plt.ylabel(\"Loss\")\n",
    "plt.legend([\"train\", \"valid\"])\n",
    "plt.show()\n"
   ]
  },
  {
   "cell_type": "code",
   "execution_count": 33,
   "id": "58c3082f",
   "metadata": {},
   "outputs": [
    {
     "name": "stdout",
     "output_type": "stream",
     "text": [
      "\u001b[1m4/4\u001b[0m \u001b[32m━━━━━━━━━━━━━━━━━━━━\u001b[0m\u001b[37m\u001b[0m \u001b[1m0s\u001b[0m 25ms/step - accuracy: 0.3722 - loss: 1.9289\n"
     ]
    },
    {
     "data": {
      "text/plain": [
       "[1.9143372774124146, 0.3523809611797333]"
      ]
     },
     "execution_count": 33,
     "metadata": {},
     "output_type": "execute_result"
    }
   ],
   "source": [
    "\n",
    "# evaluate:\n",
    "model.evaluate(X_test,y_test)\n"
   ]
  },
  {
   "cell_type": "code",
   "execution_count": 34,
   "id": "1ac26764",
   "metadata": {},
   "outputs": [
    {
     "name": "stdout",
     "output_type": "stream",
     "text": [
      "\u001b[1m4/4\u001b[0m \u001b[32m━━━━━━━━━━━━━━━━━━━━\u001b[0m\u001b[37m\u001b[0m \u001b[1m0s\u001b[0m 51ms/step\n"
     ]
    },
    {
     "data": {
      "text/plain": [
       "array([3, 7, 3, 3, 4, 5, 4, 4, 0, 4, 3, 5, 3, 6, 0, 4, 1, 5, 3, 3, 1, 0,\n",
       "       3, 7, 4, 4, 5, 3, 3, 5, 5, 3, 3, 3, 5, 7, 3, 5, 6, 3, 4, 4, 5, 3,\n",
       "       4, 0, 4, 1, 4, 4, 4, 4, 3, 5, 4, 4, 5, 4, 3, 5, 8, 4, 5, 3, 4, 3,\n",
       "       4, 5, 5, 1, 3, 4, 4, 1, 3, 5, 1, 1, 4, 1, 3, 1, 4, 1, 1, 1, 4, 0,\n",
       "       6, 4, 4, 3, 3, 5, 3, 1, 4, 0, 1, 4, 4, 3, 5, 1, 3], dtype=int64)"
      ]
     },
     "execution_count": 34,
     "metadata": {},
     "output_type": "execute_result"
    }
   ],
   "source": [
    "\n",
    "y_pred = model.predict(X_test) \n",
    "label_classes = y_pred.argmax(axis=-1)\n",
    "label_classes\n"
   ]
  },
  {
   "cell_type": "code",
   "execution_count": 35,
   "id": "d520af02",
   "metadata": {},
   "outputs": [
    {
     "data": {
      "text/plain": [
       "numpy.ndarray"
      ]
     },
     "execution_count": 35,
     "metadata": {},
     "output_type": "execute_result"
    }
   ],
   "source": [
    "type(label_classes)"
   ]
  },
  {
   "cell_type": "code",
   "execution_count": 36,
   "id": "7ad6b8b9",
   "metadata": {},
   "outputs": [],
   "source": [
    "\n",
    "# convert y_test to an array like label_classes\n",
    "liste_indices = []\n",
    "for i in y_test:\n",
    "    a = 0\n",
    "    for j in i:\n",
    "        if j == 1:\n",
    "            liste_indices.append(a)\n",
    "        a += 1\n"
   ]
  },
  {
   "cell_type": "code",
   "execution_count": 37,
   "id": "407b7bd4",
   "metadata": {},
   "outputs": [],
   "source": [
    "liste_indices_arr = np.asarray(liste_indices)"
   ]
  },
  {
   "cell_type": "code",
   "execution_count": 38,
   "id": "c2615cf1",
   "metadata": {},
   "outputs": [
    {
     "data": {
      "text/plain": [
       "array([2, 7, 3, 0, 3, 8, 0, 4, 0, 4, 3, 5, 8, 6, 0, 6, 3, 3, 3, 8, 5, 8,\n",
       "       0, 7, 8, 6, 1, 0, 5, 5, 5, 3, 7, 8, 1, 6, 2, 7, 8, 7, 4, 4, 6, 0,\n",
       "       4, 0, 2, 1, 0, 2, 1, 4, 2, 1, 4, 4, 6, 2, 3, 5, 2, 5, 8, 6, 4, 4,\n",
       "       7, 3, 5, 2, 2, 7, 0, 2, 8, 8, 5, 7, 0, 5, 2, 1, 4, 1, 2, 6, 4, 8,\n",
       "       1, 4, 4, 3, 6, 1, 6, 8, 3, 0, 1, 4, 4, 2, 4, 2, 2])"
      ]
     },
     "execution_count": 38,
     "metadata": {},
     "output_type": "execute_result"
    }
   ],
   "source": [
    "liste_indices_arr"
   ]
  },
  {
   "cell_type": "code",
   "execution_count": 39,
   "id": "07dc61d8",
   "metadata": {},
   "outputs": [
    {
     "data": {
      "text/plain": [
       "array([[0., 0., 1., 0., 0., 0., 0., 0., 0.],\n",
       "       [0., 0., 0., 0., 0., 0., 0., 1., 0.],\n",
       "       [0., 0., 0., 1., 0., 0., 0., 0., 0.],\n",
       "       [1., 0., 0., 0., 0., 0., 0., 0., 0.],\n",
       "       [0., 0., 0., 1., 0., 0., 0., 0., 0.],\n",
       "       [0., 0., 0., 0., 0., 0., 0., 0., 1.],\n",
       "       [1., 0., 0., 0., 0., 0., 0., 0., 0.],\n",
       "       [0., 0., 0., 0., 1., 0., 0., 0., 0.],\n",
       "       [1., 0., 0., 0., 0., 0., 0., 0., 0.],\n",
       "       [0., 0., 0., 0., 1., 0., 0., 0., 0.],\n",
       "       [0., 0., 0., 1., 0., 0., 0., 0., 0.],\n",
       "       [0., 0., 0., 0., 0., 1., 0., 0., 0.],\n",
       "       [0., 0., 0., 0., 0., 0., 0., 0., 1.],\n",
       "       [0., 0., 0., 0., 0., 0., 1., 0., 0.],\n",
       "       [1., 0., 0., 0., 0., 0., 0., 0., 0.],\n",
       "       [0., 0., 0., 0., 0., 0., 1., 0., 0.],\n",
       "       [0., 0., 0., 1., 0., 0., 0., 0., 0.],\n",
       "       [0., 0., 0., 1., 0., 0., 0., 0., 0.],\n",
       "       [0., 0., 0., 1., 0., 0., 0., 0., 0.],\n",
       "       [0., 0., 0., 0., 0., 0., 0., 0., 1.],\n",
       "       [0., 0., 0., 0., 0., 1., 0., 0., 0.],\n",
       "       [0., 0., 0., 0., 0., 0., 0., 0., 1.],\n",
       "       [1., 0., 0., 0., 0., 0., 0., 0., 0.],\n",
       "       [0., 0., 0., 0., 0., 0., 0., 1., 0.],\n",
       "       [0., 0., 0., 0., 0., 0., 0., 0., 1.],\n",
       "       [0., 0., 0., 0., 0., 0., 1., 0., 0.],\n",
       "       [0., 1., 0., 0., 0., 0., 0., 0., 0.],\n",
       "       [1., 0., 0., 0., 0., 0., 0., 0., 0.],\n",
       "       [0., 0., 0., 0., 0., 1., 0., 0., 0.],\n",
       "       [0., 0., 0., 0., 0., 1., 0., 0., 0.],\n",
       "       [0., 0., 0., 0., 0., 1., 0., 0., 0.],\n",
       "       [0., 0., 0., 1., 0., 0., 0., 0., 0.],\n",
       "       [0., 0., 0., 0., 0., 0., 0., 1., 0.],\n",
       "       [0., 0., 0., 0., 0., 0., 0., 0., 1.],\n",
       "       [0., 1., 0., 0., 0., 0., 0., 0., 0.],\n",
       "       [0., 0., 0., 0., 0., 0., 1., 0., 0.],\n",
       "       [0., 0., 1., 0., 0., 0., 0., 0., 0.],\n",
       "       [0., 0., 0., 0., 0., 0., 0., 1., 0.],\n",
       "       [0., 0., 0., 0., 0., 0., 0., 0., 1.],\n",
       "       [0., 0., 0., 0., 0., 0., 0., 1., 0.],\n",
       "       [0., 0., 0., 0., 1., 0., 0., 0., 0.],\n",
       "       [0., 0., 0., 0., 1., 0., 0., 0., 0.],\n",
       "       [0., 0., 0., 0., 0., 0., 1., 0., 0.],\n",
       "       [1., 0., 0., 0., 0., 0., 0., 0., 0.],\n",
       "       [0., 0., 0., 0., 1., 0., 0., 0., 0.],\n",
       "       [1., 0., 0., 0., 0., 0., 0., 0., 0.],\n",
       "       [0., 0., 1., 0., 0., 0., 0., 0., 0.],\n",
       "       [0., 1., 0., 0., 0., 0., 0., 0., 0.],\n",
       "       [1., 0., 0., 0., 0., 0., 0., 0., 0.],\n",
       "       [0., 0., 1., 0., 0., 0., 0., 0., 0.],\n",
       "       [0., 1., 0., 0., 0., 0., 0., 0., 0.],\n",
       "       [0., 0., 0., 0., 1., 0., 0., 0., 0.],\n",
       "       [0., 0., 1., 0., 0., 0., 0., 0., 0.],\n",
       "       [0., 1., 0., 0., 0., 0., 0., 0., 0.],\n",
       "       [0., 0., 0., 0., 1., 0., 0., 0., 0.],\n",
       "       [0., 0., 0., 0., 1., 0., 0., 0., 0.],\n",
       "       [0., 0., 0., 0., 0., 0., 1., 0., 0.],\n",
       "       [0., 0., 1., 0., 0., 0., 0., 0., 0.],\n",
       "       [0., 0., 0., 1., 0., 0., 0., 0., 0.],\n",
       "       [0., 0., 0., 0., 0., 1., 0., 0., 0.],\n",
       "       [0., 0., 1., 0., 0., 0., 0., 0., 0.],\n",
       "       [0., 0., 0., 0., 0., 1., 0., 0., 0.],\n",
       "       [0., 0., 0., 0., 0., 0., 0., 0., 1.],\n",
       "       [0., 0., 0., 0., 0., 0., 1., 0., 0.],\n",
       "       [0., 0., 0., 0., 1., 0., 0., 0., 0.],\n",
       "       [0., 0., 0., 0., 1., 0., 0., 0., 0.],\n",
       "       [0., 0., 0., 0., 0., 0., 0., 1., 0.],\n",
       "       [0., 0., 0., 1., 0., 0., 0., 0., 0.],\n",
       "       [0., 0., 0., 0., 0., 1., 0., 0., 0.],\n",
       "       [0., 0., 1., 0., 0., 0., 0., 0., 0.],\n",
       "       [0., 0., 1., 0., 0., 0., 0., 0., 0.],\n",
       "       [0., 0., 0., 0., 0., 0., 0., 1., 0.],\n",
       "       [1., 0., 0., 0., 0., 0., 0., 0., 0.],\n",
       "       [0., 0., 1., 0., 0., 0., 0., 0., 0.],\n",
       "       [0., 0., 0., 0., 0., 0., 0., 0., 1.],\n",
       "       [0., 0., 0., 0., 0., 0., 0., 0., 1.],\n",
       "       [0., 0., 0., 0., 0., 1., 0., 0., 0.],\n",
       "       [0., 0., 0., 0., 0., 0., 0., 1., 0.],\n",
       "       [1., 0., 0., 0., 0., 0., 0., 0., 0.],\n",
       "       [0., 0., 0., 0., 0., 1., 0., 0., 0.],\n",
       "       [0., 0., 1., 0., 0., 0., 0., 0., 0.],\n",
       "       [0., 1., 0., 0., 0., 0., 0., 0., 0.],\n",
       "       [0., 0., 0., 0., 1., 0., 0., 0., 0.],\n",
       "       [0., 1., 0., 0., 0., 0., 0., 0., 0.],\n",
       "       [0., 0., 1., 0., 0., 0., 0., 0., 0.],\n",
       "       [0., 0., 0., 0., 0., 0., 1., 0., 0.],\n",
       "       [0., 0., 0., 0., 1., 0., 0., 0., 0.],\n",
       "       [0., 0., 0., 0., 0., 0., 0., 0., 1.],\n",
       "       [0., 1., 0., 0., 0., 0., 0., 0., 0.],\n",
       "       [0., 0., 0., 0., 1., 0., 0., 0., 0.],\n",
       "       [0., 0., 0., 0., 1., 0., 0., 0., 0.],\n",
       "       [0., 0., 0., 1., 0., 0., 0., 0., 0.],\n",
       "       [0., 0., 0., 0., 0., 0., 1., 0., 0.],\n",
       "       [0., 1., 0., 0., 0., 0., 0., 0., 0.],\n",
       "       [0., 0., 0., 0., 0., 0., 1., 0., 0.],\n",
       "       [0., 0., 0., 0., 0., 0., 0., 0., 1.],\n",
       "       [0., 0., 0., 1., 0., 0., 0., 0., 0.],\n",
       "       [1., 0., 0., 0., 0., 0., 0., 0., 0.],\n",
       "       [0., 1., 0., 0., 0., 0., 0., 0., 0.],\n",
       "       [0., 0., 0., 0., 1., 0., 0., 0., 0.],\n",
       "       [0., 0., 0., 0., 1., 0., 0., 0., 0.],\n",
       "       [0., 0., 1., 0., 0., 0., 0., 0., 0.],\n",
       "       [0., 0., 0., 0., 1., 0., 0., 0., 0.],\n",
       "       [0., 0., 1., 0., 0., 0., 0., 0., 0.],\n",
       "       [0., 0., 1., 0., 0., 0., 0., 0., 0.]])"
      ]
     },
     "execution_count": 39,
     "metadata": {},
     "output_type": "execute_result"
    }
   ],
   "source": [
    "y_test"
   ]
  },
  {
   "cell_type": "code",
   "execution_count": 40,
   "id": "60a6a2cf",
   "metadata": {},
   "outputs": [
    {
     "data": {
      "image/png": "[encoded data removed]",
      "text/plain": [
       "<Figure size 1000x800 with 18 Axes>"
      ]
     },
     "metadata": {},
     "output_type": "display_data"
    }
   ],
   "source": [
    "\n",
    "fig, ax = plt.subplots(3, 6, subplot_kw=dict(xticks=[], yticks=[]), figsize=(10,8))\n",
    "for i, axi in enumerate(ax.flat):\n",
    "    color = 'black'\n",
    "    if label_classes[i]!=liste_indices_arr[i]:\n",
    "        color='r'\n",
    "    axi.imshow(X_test[i], cmap='Blues_r')\n",
    "    axi.set_title(label_names[label_classes[i]], color=color)\n",
    "plt.show()\n"
   ]
  }
 ],
 "metadata": {
  "kernelspec": {
   "display_name": "Python 3 (ipykernel)",
   "language": "python",
   "name": "python3"
  },
  "language_info": {
   "codemirror_mode": {
    "name": "ipython",
    "version": 3
   },
   "file_extension": ".py",
   "mimetype": "text/x-python",
   "name": "python",
   "nbconvert_exporter": "python",
   "pygments_lexer": "ipython3",
   "version": "3.10.13"
  }
 },
 "nbformat": 4,
 "nbformat_minor": 5
}
